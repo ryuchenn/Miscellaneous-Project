{
 "cells": [
  {
   "cell_type": "code",
   "execution_count": 1,
   "metadata": {},
   "outputs": [],
   "source": [
    "import pandas as pd\n",
    "import json\n",
    "import csv"
   ]
  },
  {
   "cell_type": "code",
   "execution_count": 2,
   "metadata": {},
   "outputs": [],
   "source": [
    "\n",
    "def format_row(SystemPrompt, question, answer):\n",
    "    formatted_row = {\n",
    "        \"messages\": [\n",
    "            {\"role\": \"system\", \"content\": SystemPrompt},\n",
    "            {\"role\": \"user\", \"content\": question},\n",
    "            {\"role\": \"assistant\", \"content\": answer}\n",
    "        ]\n",
    "    }\n",
    "    return formatted_row\n",
    "\n",
    "def main(input_csv_file, output_json_file):\n",
    "    with open(input_csv_file, 'r', newline='') as csvfile:\n",
    "        reader = csv.DictReader(csvfile)\n",
    "        formatted_data = []\n",
    "        for row in reader:\n",
    "            SystemPrompt = row['SystemPrompt']\n",
    "            question = row['Question']\n",
    "            answer = row['Answer']\n",
    "            formatted_row = format_row(SystemPrompt, question, answer)\n",
    "            formatted_data.append(formatted_row)\n",
    "\n",
    "    with open(output_json_file, 'w') as jsonfile:\n",
    "        for formatted_row in formatted_data:\n",
    "            jsonfile.write(json.dumps(formatted_row) + '\\n')\n",
    "\n",
    "if __name__ == \"__main__\":\n",
    "    input_csv_file = 'Train.csv'  # Specify the path to your input CSV file\n",
    "    output_json_file = 'output.json'  # Specify the path to the output JSON file\n",
    "    main(input_csv_file, output_json_file)\n"
   ]
  }
 ],
 "metadata": {
  "kernelspec": {
   "display_name": "base",
   "language": "python",
   "name": "python3"
  },
  "language_info": {
   "codemirror_mode": {
    "name": "ipython",
    "version": 3
   },
   "file_extension": ".py",
   "mimetype": "text/x-python",
   "name": "python",
   "nbconvert_exporter": "python",
   "pygments_lexer": "ipython3",
   "version": "3.11.4"
  }
 },
 "nbformat": 4,
 "nbformat_minor": 2
}
